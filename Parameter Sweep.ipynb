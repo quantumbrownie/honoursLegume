{
 "cells": [
  {
   "cell_type": "code",
   "execution_count": 1,
   "id": "3e7c2a0e",
   "metadata": {},
   "outputs": [],
   "source": [
    "import numpy as np\n",
    "import scipy as sc\n",
    "import matplotlib.pyplot as plt\n",
    "import time\n",
    "\n",
    "\n",
    "#import autograd.numpy as npa\n",
    "#from autograd import grad, value_and_grad\n",
    "\n",
    "import legume\n",
    "from legume import PlaneWaveExp, GuidedModeExp, Circle, ShapesLayer, Lattice, PhotCryst\n",
    "from legume.minimize import Minimize\n",
    "\n",
    "%load_ext autoreload\n",
    "%autoreload 2"
   ]
  },
  {
   "cell_type": "code",
   "execution_count": 2,
   "id": "1a6aaa11",
   "metadata": {},
   "outputs": [],
   "source": [
    "def wg_sc(dx, dy, dr):\n",
    "    \"\"\"Define the photonic crystal waveguide given shift parameters\n",
    "    dx, dy, and dr, for the 2*Nx*Ny_opt number of pillars that get shifted\n",
    "    \"\"\"\n",
    "    phc = PhotCryst(lattice, eps_l = 1, eps_u = 1)\n",
    "    \n",
    "    # Initialize a layer and the positions of the pillars for the regular waveguide\n",
    "    phc.add_layer(d=d, eps_b=eps_b)\n",
    "    \n",
    "    xc = []; yc = []\n",
    "    for ih in range(Ny):\n",
    "        if ih != Ny//2:\n",
    "            for ix in range(-Nx//2+1, Nx//2+1):\n",
    "                xc.append((ih%2)*0.5 + ix)\n",
    "                if ih <= Ny//2:\n",
    "                    yc.append((-Ny//2 + ih + (1-W)/2)*np.sqrt(3)/2)\n",
    "                else:\n",
    "                    yc.append((-Ny//2 + ih - (1-W)/2)*np.sqrt(3)/2)\n",
    "\n",
    "    # Add all the pillars, taking care of the shifts\n",
    "    for ih in range(1, Ny//2+1):\n",
    "        nx1 = (Ny//2+ih-1)\n",
    "        nx2 = (Ny//2-ih)\n",
    "        if ih <= Ny_opt:\n",
    "            # The ih row includes \"optimization\" pillars\n",
    "            for ix in range(Nx):\n",
    "                circ = Circle(x_cent=xc[nx1*Nx + ix] + dx[(ih-1)*Nx + ix],\n",
    "                              y_cent=yc[nx1*Nx + ix] + dy[(ih-1)*Nx  + ix],\n",
    "                              r = ra + dr[(ih-1)*Nx + ix], eps=eps_c)\n",
    "                phc.add_shape(circ)\n",
    "                circ = Circle(x_cent=xc[nx2*Nx + ix] + dx[(ih-1+Ny_opt)*Nx  + ix],\n",
    "                              y_cent=yc[nx2*Nx + ix] + dy[(ih-1+Ny_opt)*Nx  + ix],\n",
    "                              r = ra + dr[(ih-1+Ny_opt)*Nx + ix], eps=eps_c)\n",
    "                phc.add_shape(circ)\n",
    "        else:\n",
    "            # The ih row includes just regular pillars\n",
    "            for ix in range(Nx):\n",
    "                circ = Circle(x_cent = xc[nx2*Nx + ix], y_cent=yc[nx2*Nx + ix], r=ra, eps=eps_c)\n",
    "                phc.add_shape(circ)\n",
    "                if ih < Ny//2:\n",
    "                    circ = Circle(x_cent = xc[nx1*Nx + ix], y_cent=yc[nx1*Nx + ix], r=ra, eps=eps_c)\n",
    "                    phc.add_shape(circ)\n",
    "\n",
    "    # Construct and return a plane-wave expansion object\n",
    "    return phc"
   ]
  },
  {
   "cell_type": "code",
   "execution_count": 3,
   "id": "1e876eed",
   "metadata": {},
   "outputs": [
    {
     "name": "stdout",
     "output_type": "stream",
     "text": [
      "Progress: 40/800      \r"
     ]
    },
    {
     "name": "stderr",
     "output_type": "stream",
     "text": [
      "C:\\Users\\Toad\\AppData\\Local\\Temp/ipykernel_11152/2892137803.py:61: RuntimeWarning: invalid value encountered in true_divide\n",
      "  n_eff = kv/gme.freqs\n",
      "C:\\Users\\Toad\\AppData\\Local\\Temp/ipykernel_11152/2892137803.py:62: RuntimeWarning: divide by zero encountered in true_divide\n",
      "  wvln = a/gme.freqs\n"
     ]
    },
    {
     "name": "stdout",
     "output_type": "stream",
     "text": [
      "Progress: 800/800      \r"
     ]
    }
   ],
   "source": [
    "# PhC parameters\n",
    "a = 420\n",
    "ra = 0.5*256/a       # hole radius\n",
    "eps_b = 3.453**2      # slab permittivity (n ~= 3.453 at low temp, n = 3.48 at room temp)\n",
    "#eps_b = 11.7\n",
    "eps_c = 1            # hole permittivity\n",
    "d = 220/420          # slab thickness\n",
    "\n",
    "# plane-wave expansion parameters\n",
    "gmax = 2     # truncation of the plane-wave basis\n",
    "Ny = 14      # Number of rows in the y-direction\n",
    "Ny_opt = 3   # Number of rows in which the pillars will be modified\n",
    "Nx = 1       # Supercell size in the x-direction\n",
    "\n",
    "Ws = np.arange(0.8, 1.2, 0.0005) #+ 0.0003\n",
    "\n",
    "# cross_wvlns = []\n",
    "n_effs = []\n",
    "\n",
    "iteration = 0\n",
    "total_it = len(Ws)\n",
    "\n",
    "for i in np.arange(0,len(Ws)):\n",
    "    W = Ws[i]\n",
    "\n",
    "    # Initialize a rectangular lattice\n",
    "    lattice = Lattice([Nx, 0], [0, (Ny-1)*np.sqrt(3)/2])\n",
    "\n",
    "    # Initialize zero shifts\n",
    "    dx0 = np.zeros((Nx*2*Ny_opt, ))\n",
    "    dy0 = np.zeros((Nx*2*Ny_opt, ))\n",
    "    dr0 = np.zeros((Nx*2*Ny_opt, ))\n",
    "\n",
    "    # Initialize the PWE and visualize the structure both through the `eps` and the `eps_ft` methods\n",
    "    phc0 = wg_sc(dx0, dy0, dr0)\n",
    "\n",
    "    nk = 50\n",
    "\n",
    "    # Define a BZ path in kx\n",
    "    path = phc0.lattice.bz_path([[0, 0], np.array([np.pi/Nx, 0])], [nk])\n",
    "    #pwe0.run(kpoints=path['kpoints'], pol='tm', numeig = 150)\n",
    "\n",
    "    neig = 30\n",
    "\n",
    "    # Initialize GME\n",
    "    gme = legume.GuidedModeExp(phc0, gmax=gmax)\n",
    "\n",
    "    # Set some of the running options\n",
    "    options = {'gmode_inds': [0], \n",
    "               'numeig': neig,\n",
    "               'verbose': False\n",
    "                }\n",
    "\n",
    "    # Run the simulation\n",
    "    gme.run(kpoints=path['kpoints'], **options)\n",
    "\n",
    "    f_ind = np.linspace(0, 1, neig)\n",
    "    k = np.linspace(0, 0.5, nk+1)\n",
    "    fv, kv = np.meshgrid(f_ind, k)\n",
    "    # print(kv)\n",
    "    n_eff = kv/gme.freqs\n",
    "    wvln = a/gme.freqs\n",
    "\n",
    "    ind = 14 # Index of mode in question\n",
    "\n",
    "    #n_target = 1.44\n",
    "    #n_diff = n_target - n_eff[:,ind]\n",
    "\n",
    "    #zero_crossings = np.where(np.diff(np.sign(n_diff)))\n",
    "    #cross_wvln = float(wvln[zero_crossings, ind])\n",
    "    #cross_wvlns = np.append(cross_wvlns, cross_wvln)\n",
    "    \n",
    "    wvln_target = 1518.37\n",
    "    wvln_ind = wvln[:,ind]    #wvln for the mode in question\n",
    "    n_eff_ind = n_eff[:,ind]  #n_eff for the mode in question\n",
    "    \n",
    "    sort = np.argsort(wvln_ind) # Sorting wvln monotonically\n",
    "    \n",
    "    wvln_sort = wvln_ind[sort]\n",
    "    n_eff_sort = n_eff_ind[sort]\n",
    "        \n",
    "    tck = sc.interpolate.splrep(wvln_sort,n_eff_sort, s=0)\n",
    "    n_eff_wvln = sc.interpolate.splev(wvln_target, tck, der=0) # Interpolate to find nee at wvln_target\n",
    "    n_effs = np.append(n_effs, n_eff_wvln)\n",
    "    \n",
    "    iteration = iteration + 1\n",
    "    print(\"Progress: \" + str(iteration) + \"/\" + str(total_it) + \"      \", end = \"\\r\")"
   ]
  },
  {
   "cell_type": "code",
   "execution_count": 4,
   "id": "b696c52a",
   "metadata": {},
   "outputs": [
    {
     "data": {
      "text/plain": [
       "(0.0, 2.0)"
      ]
     },
     "execution_count": 4,
     "metadata": {},
     "output_type": "execute_result"
    },
    {
     "data": {
      "image/png": "[encoded data removed]",
      "text/plain": [
       "<Figure size 432x288 with 1 Axes>"
      ]
     },
     "metadata": {
      "needs_background": "light"
     },
     "output_type": "display_data"
    }
   ],
   "source": [
    "plt.plot(Ws, n_effs)\n",
    "plt.xlabel(\"Waveguide Width (W)\")\n",
    "plt.ylabel(\"$n_{eff}$\")\n",
    "plt.ylim(0,2)"
   ]
  },
  {
   "cell_type": "code",
   "execution_count": 5,
   "id": "138c63f4",
   "metadata": {},
   "outputs": [],
   "source": [
    "## sorry justin i had to use remote toad because i don't have illustrator at home. ALl done now xx -Tim"
   ]
  }
 ],
 "metadata": {
  "kernelspec": {
   "display_name": "legume",
   "language": "python",
   "name": "legume"
  },
  "language_info": {
   "codemirror_mode": {
    "name": "ipython",
    "version": 3
   },
   "file_extension": ".py",
   "mimetype": "text/x-python",
   "name": "python",
   "nbconvert_exporter": "python",
   "pygments_lexer": "ipython3",
   "version": "3.10.0"
  }
 },
 "nbformat": 4,
 "nbformat_minor": 5
}
