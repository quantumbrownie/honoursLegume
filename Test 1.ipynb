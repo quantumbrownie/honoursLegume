{
 "cells": [
  {
   "cell_type": "code",
   "execution_count": 1,
   "id": "04fc2675",
   "metadata": {},
   "outputs": [],
   "source": [
    "import numpy as np\n",
    "import matplotlib.pyplot as plt\n",
    "import time\n",
    "\n",
    "import autograd.numpy as npa\n",
    "from autograd import grad, value_and_grad\n",
    "\n",
    "import legume\n",
    "from legume import PlaneWaveExp, Circle, ShapesLayer, Lattice\n",
    "from legume.minimize import Minimize\n",
    "\n",
    "%load_ext autoreload\n",
    "%autoreload 2"
   ]
  },
  {
   "cell_type": "code",
   "execution_count": 2,
   "id": "8f70b206",
   "metadata": {},
   "outputs": [
    {
     "data": {
      "image/png": "[encoded data removed]",
      "text/plain": [
       "<Figure size 432x288 with 1 Axes>"
      ]
     },
     "metadata": {
      "needs_background": "light"
     },
     "output_type": "display_data"
    }
   ],
   "source": [
    "# Initialize a lattice (can be 'square', 'hexagonal', or defined by primitive vectors)\n",
    "lattice = legume.Lattice('hexagonal')\n",
    "\n",
    "# Initialize a layer with background permittivity 2\n",
    "layer = legume.ShapesLayer(lattice, eps_b=2)\n",
    "\n",
    "# Create a square and use the `add_shape` method to add it to the layer\n",
    "square = legume.Square(eps=10, x_cent=0, y_cent=0, a=0.3)\n",
    "layer.add_shape(square)\n",
    "\n",
    "# Create a circle and also add it to the layer\n",
    "circle = legume.Circle(eps=6, x_cent=0.5, y_cent=0.3, r=0.2)\n",
    "layer.add_shape(circle)\n",
    "\n",
    "# Use an in-built visualization method to plot the contours of the shapes we have so far\n",
    "legume.viz.shapes(layer)"
   ]
  },
  {
   "cell_type": "code",
   "execution_count": 3,
   "id": "a27be906",
   "metadata": {},
   "outputs": [
    {
     "ename": "NameError",
     "evalue": "name 'Lattice' is not defined",
     "output_type": "error",
     "traceback": [
      "\u001b[0;31m---------------------------------------------------------------------------\u001b[0m",
      "\u001b[0;31mNameError\u001b[0m                                 Traceback (most recent call last)",
      "Input \u001b[0;32mIn [3]\u001b[0m, in \u001b[0;36m<module>\u001b[0;34m\u001b[0m\n\u001b[1;32m     10\u001b[0m Nx \u001b[38;5;241m=\u001b[39m \u001b[38;5;241m5\u001b[39m       \u001b[38;5;66;03m# Supercell size in the x-direction\u001b[39;00m\n\u001b[1;32m     12\u001b[0m \u001b[38;5;66;03m# Initialize a rectangular lattice\u001b[39;00m\n\u001b[0;32m---> 13\u001b[0m lattice \u001b[38;5;241m=\u001b[39m \u001b[43mLattice\u001b[49m([Nx, \u001b[38;5;241m0\u001b[39m], [\u001b[38;5;241m0\u001b[39m, Ny\u001b[38;5;241m*\u001b[39mnp\u001b[38;5;241m.\u001b[39msqrt(\u001b[38;5;241m3\u001b[39m)\u001b[38;5;241m/\u001b[39m\u001b[38;5;241m2\u001b[39m])\n\u001b[1;32m     15\u001b[0m \u001b[38;5;28;01mdef\u001b[39;00m \u001b[38;5;21mwg_sc\u001b[39m(dx, dy, dr):\n\u001b[1;32m     16\u001b[0m     \u001b[38;5;124;03m\"\"\"Define the photonic crystal waveguide given shift parameters\u001b[39;00m\n\u001b[1;32m     17\u001b[0m \u001b[38;5;124;03m    dx, dy, and dr, for the 2*Nx*Ny_opt number of pillars that get shifted\u001b[39;00m\n\u001b[1;32m     18\u001b[0m \u001b[38;5;124;03m    \"\"\"\u001b[39;00m\n",
      "\u001b[0;31mNameError\u001b[0m: name 'Lattice' is not defined"
     ]
    }
   ],
   "source": [
    "# PhC parameters\n",
    "ra = 0.2     # pillar radius\n",
    "eps_b = 1    # background permittivity\n",
    "eps_c = 9    # pillar permittivity\n",
    "\n",
    "# plane-wave expansion parameters\n",
    "gmax = 2     # truncation of the plane-wave basis\n",
    "Ny = 14      # Number of rows in the y-direction\n",
    "Ny_opt = 3   # Number of rows in which the pillars will be modified\n",
    "Nx = 5       # Supercell size in the x-direction\n",
    "\n",
    "# Initialize a rectangular lattice\n",
    "lattice = Lattice([Nx, 0], [0, Ny*np.sqrt(3)/2])\n",
    "\n",
    "def wg_sc(dx, dy, dr):\n",
    "    \"\"\"Define the photonic crystal waveguide given shift parameters\n",
    "    dx, dy, and dr, for the 2*Nx*Ny_opt number of pillars that get shifted\n",
    "    \"\"\"\n",
    "    # Initialize a layer and the positions of the pillars for the regular waveguide\n",
    "    layer_wg = ShapesLayer(lattice, eps_b=eps_b)\n",
    "    xc = []; yc = []\n",
    "    for ih in range(Ny):\n",
    "        if ih != Ny//2:\n",
    "            for ix in range(-Nx//2+1, Nx//2+1):\n",
    "                xc.append((ih%2)*0.5 + ix)\n",
    "                yc.append((-Ny//2 + ih)*np.sqrt(3)/2)\n",
    "\n",
    "    # Add all the pillars, taking care of the shifts\n",
    "    for ih in range(1, Ny//2+1):\n",
    "        nx1 = (Ny//2+ih-1)\n",
    "        nx2 = (Ny//2-ih)\n",
    "        if ih <= Ny_opt:\n",
    "            # The ih row includes \"optimization\" pillars\n",
    "            for ix in range(Nx):\n",
    "                circ = Circle(x_cent=xc[nx1*Nx + ix] + dx[(ih-1)*Nx + ix],\n",
    "                              y_cent=yc[nx1*Nx + ix] + dy[(ih-1)*Nx  + ix],\n",
    "                              r = ra + dr[(ih-1)*Nx + ix], eps=eps_c)\n",
    "                layer_wg.add_shape(circ)\n",
    "                circ = Circle(x_cent=xc[nx2*Nx + ix] + dx[(ih-1+Ny_opt)*Nx  + ix],\n",
    "                              y_cent=yc[nx2*Nx + ix] + dy[(ih-1+Ny_opt)*Nx  + ix],\n",
    "                              r = ra + dr[(ih-1+Ny_opt)*Nx + ix], eps=eps_c)\n",
    "                layer_wg.add_shape(circ)\n",
    "        else:\n",
    "            # The ih row includes just regular pillars\n",
    "            for ix in range(Nx):\n",
    "                circ = Circle(x_cent = xc[nx2*Nx + ix], y_cent=yc[nx2*Nx + ix], r=ra, eps=eps_c)\n",
    "                layer_wg.add_shape(circ)\n",
    "                if ih < Ny//2:\n",
    "                    circ = Circle(x_cent = xc[nx1*Nx + ix], y_cent=yc[nx1*Nx + ix], r=ra, eps=eps_c)\n",
    "                    layer_wg.add_shape(circ)\n",
    "\n",
    "    # Construct and return a plane-wave expansion object\n",
    "    return PlaneWaveExp(layer_wg, gmax=gmax)"
   ]
  },
  {
   "cell_type": "code",
   "execution_count": null,
   "id": "c8fbafe9",
   "metadata": {},
   "outputs": [],
   "source": []
  }
 ],
 "metadata": {
  "kernelspec": {
   "display_name": "legume",
   "language": "python",
   "name": "legume"
  },
  "language_info": {
   "codemirror_mode": {
    "name": "ipython",
    "version": 3
   },
   "file_extension": ".py",
   "mimetype": "text/x-python",
   "name": "python",
   "nbconvert_exporter": "python",
   "pygments_lexer": "ipython3",
   "version": "3.10.0"
  }
 },
 "nbformat": 4,
 "nbformat_minor": 5
}
